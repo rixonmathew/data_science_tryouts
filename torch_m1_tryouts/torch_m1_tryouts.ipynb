{
 "cells": [
  {
   "attachments": {},
   "cell_type": "markdown",
   "metadata": {},
   "source": [
    "### Tryout of M1 GPU using Pytorch libraries\n",
    "https://towardsdatascience.com/installing-pytorch-on-apple-m1-chip-with-gpu-acceleration-3351dc44d67c"
   ]
  },
  {
   "cell_type": "code",
   "execution_count": 2,
   "metadata": {},
   "outputs": [
    {
     "name": "stdout",
     "output_type": "stream",
     "text": [
      "Correct MacOS Version  True\n",
      "Correct version of Pytorch True\n"
     ]
    }
   ],
   "source": [
    "import torch\n",
    "import math\n",
    "# this ensures that the current MacOS version is at least 12.3+\n",
    "print(\"Correct MacOS Version \",torch.backends.mps.is_available())\n",
    "# this ensures that the current current PyTorch installation was built with MPS activated.\n",
    "print(\"Correct version of Pytorch\", torch.backends.mps.is_built())"
   ]
  },
  {
   "cell_type": "code",
   "execution_count": 3,
   "metadata": {},
   "outputs": [
    {
     "name": "stdout",
     "output_type": "stream",
     "text": [
      "99 377.7940673828125\n",
      "199 253.48660278320312\n",
      "299 171.10084533691406\n",
      "399 116.47819519042969\n",
      "499 80.25664520263672\n",
      "599 56.23202133178711\n",
      "699 40.294403076171875\n",
      "799 29.71935272216797\n",
      "899 22.701053619384766\n",
      "999 18.041961669921875\n",
      "1099 14.948221206665039\n",
      "1199 12.893423080444336\n",
      "1299 11.528175354003906\n",
      "1399 10.620859146118164\n",
      "1499 10.01766586303711\n",
      "1599 9.616510391235352\n",
      "1699 9.349649429321289\n",
      "1799 9.172039985656738\n",
      "1899 9.05378532409668\n",
      "1999 8.975017547607422\n",
      "Result: y = -0.004868876654654741 + 0.868105947971344 x + 0.0008399660000577569 x^2 + -0.09494699537754059 x^3\n"
     ]
    }
   ],
   "source": [
    "dtype = torch.float\n",
    "device = torch.device(\"mps\")\n",
    "\n",
    "# Create random input and output data\n",
    "x = torch.linspace(-math.pi, math.pi, 2000, device=device, dtype=dtype)\n",
    "y = torch.sin(x)\n",
    "\n",
    "# Randomly initialize weights\n",
    "a = torch.randn((), device=device, dtype=dtype)\n",
    "b = torch.randn((), device=device, dtype=dtype)\n",
    "c = torch.randn((), device=device, dtype=dtype)\n",
    "d = torch.randn((), device=device, dtype=dtype)\n",
    "\n",
    "learning_rate = 1e-6\n",
    "for t in range(2000):\n",
    "    # Forward pass: compute predicted y\n",
    "    y_pred = a + b * x + c * x ** 2 + d * x ** 3\n",
    "\n",
    "    # Compute and print loss\n",
    "    loss = (y_pred - y).pow(2).sum().item()\n",
    "    if t % 100 == 99:\n",
    "        print(t, loss)\n",
    "\n",
    "# Backprop to compute gradients of a, b, c, d with respect to loss\n",
    "    grad_y_pred = 2.0 * (y_pred - y)\n",
    "    grad_a = grad_y_pred.sum()\n",
    "    grad_b = (grad_y_pred * x).sum()\n",
    "    grad_c = (grad_y_pred * x ** 2).sum()\n",
    "    grad_d = (grad_y_pred * x ** 3).sum()\n",
    "\n",
    "    # Update weights using gradient descent\n",
    "    a -= learning_rate * grad_a\n",
    "    b -= learning_rate * grad_b\n",
    "    c -= learning_rate * grad_c\n",
    "    d -= learning_rate * grad_d\n",
    "\n",
    "\n",
    "print(f'Result: y = {a.item()} + {b.item()} x + {c.item()} x^2 + {d.item()} x^3')"
   ]
  },
  {
   "attachments": {},
   "cell_type": "markdown",
   "metadata": {},
   "source": [
    "#### Compare matrix multiplication speed using cpu and mps\n"
   ]
  },
  {
   "cell_type": "code",
   "execution_count": 13,
   "metadata": {},
   "outputs": [
    {
     "name": "stdout",
     "output_type": "stream",
     "text": [
      "Time using CPU  18.10426902770996\n"
     ]
    }
   ],
   "source": [
    "import time\n",
    "\n",
    "matrix_size = 32*512\n",
    "start = time.time()\n",
    "x = torch.randn(matrix_size,matrix_size)\n",
    "y = torch.randn(matrix_size,matrix_size)\n",
    "# x_gpu = x.to(device)\n",
    "# y_gpu = y.to(device)\n",
    "# result = torch.matmul(x_gpu,y_gpu)\n",
    "result = torch.matmul(x,y)\n",
    "print(\"Time using CPU \",time.time()-start)\n"
   ]
  }
 ],
 "metadata": {
  "kernelspec": {
   "display_name": "torch_m1_tryouts",
   "language": "python",
   "name": "python3"
  },
  "language_info": {
   "codemirror_mode": {
    "name": "ipython",
    "version": 3
   },
   "file_extension": ".py",
   "mimetype": "text/x-python",
   "name": "python",
   "nbconvert_exporter": "python",
   "pygments_lexer": "ipython3",
   "version": "3.10.8"
  },
  "orig_nbformat": 4,
  "vscode": {
   "interpreter": {
    "hash": "ff5b13d3ca2531b3e9f9b85995682af6d7ce93fbbd769a8b56e4d11f88022490"
   }
  }
 },
 "nbformat": 4,
 "nbformat_minor": 2
}
