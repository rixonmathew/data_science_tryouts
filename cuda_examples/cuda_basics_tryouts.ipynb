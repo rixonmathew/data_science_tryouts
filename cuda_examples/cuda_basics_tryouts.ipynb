{
 "cells": [
  {
   "attachments": {},
   "cell_type": "markdown",
   "metadata": {},
   "source": [
    "### Comparison of speed of matrix multiplication using cuda (gpu) vs cpu\n",
    "https://www.youtube.com/watch?v=r9IqwpMR9TE\n",
    "\n",
    "https://github.com/MariyaSha/CUDA_speedtest/blob/main/CUDA_speedtest.ipynb\n",
    "\n",
    "#### CPU\n",
    "```\n",
    "Intel(R) Core(TM) i9-9900 CPU @ 3.10GHz with 62 GB DDR4 memory\n",
    "```\n",
    "\n",
    "#### GPU configuration\n",
    "```shell\n",
    "+-----------------------------------------------------------------------------+\n",
    "| NVIDIA-SMI 525.60.11    Driver Version: 525.60.11    CUDA Version: 12.0     |\n",
    "|-------------------------------+----------------------+----------------------+\n",
    "| GPU  Name        Persistence-M| Bus-Id        Disp.A | Volatile Uncorr. ECC |\n",
    "| Fan  Temp  Perf  Pwr:Usage/Cap|         Memory-Usage | GPU-Util  Compute M. |\n",
    "|                               |                      |               MIG M. |\n",
    "|===============================+======================+======================|\n",
    "|   0  Quadro RTX 4000     Off  | 00000000:01:00.0  On |                  N/A |\n",
    "| 32%   72C    P0    48W / 125W |   2295MiB /  8192MiB |      1%      Default |\n",
    "|                               |                      |                  N/A |\n",
    "+-------------------------------+----------------------+----------------------+\n",
    "```"
   ]
  },
  {
   "cell_type": "code",
   "execution_count": 1,
   "metadata": {},
   "outputs": [
    {
     "name": "stdout",
     "output_type": "stream",
     "text": [
      "using cuda device\n"
     ]
    }
   ],
   "source": [
    "import torch\n",
    "\n",
    "if torch.cuda.is_available():\n",
    "    device = torch.device(\"cuda\")\n",
    "else:\n",
    "    device = torch.device(\"cpu\")\n",
    "    \n",
    "print(\"using\", device, \"device\")"
   ]
  },
  {
   "cell_type": "code",
   "execution_count": 3,
   "metadata": {},
   "outputs": [
    {
     "name": "stdout",
     "output_type": "stream",
     "text": [
      "************ CPU SPEED ***************\n",
      "0.05277371406555176\n",
      "verify device: cpu\n",
      "************ GPU SPEED ***************\n",
      "0.004784345626831055\n",
      "verify device: cuda:0\n",
      "************ GPU SPEED ***************\n",
      "0.004589557647705078\n",
      "verify device: cuda:0\n",
      "************ GPU SPEED ***************\n",
      "0.004698514938354492\n",
      "verify device: cuda:0\n"
     ]
    }
   ],
   "source": [
    "import time\n",
    "\n",
    "matrix_size = 32*128\n",
    "\n",
    "x = torch.randn(matrix_size, matrix_size)\n",
    "y = torch.randn(matrix_size, matrix_size)\n",
    "\n",
    "print(\"************ CPU SPEED ***************\")\n",
    "start = time.time()\n",
    "result = torch.matmul(x,y)\n",
    "print(time.time() - start)\n",
    "print(\"verify device:\", result.device)\n",
    "\n",
    "x_gpu = x.to(device)\n",
    "y_gpu = y.to(device)\n",
    "torch.cuda.synchronize()\n",
    "\n",
    "for i in range(3):\n",
    "    print(\"************ GPU SPEED ***************\")\n",
    "    start = time.time()\n",
    "    result_gpu = torch.matmul(x_gpu,y_gpu)\n",
    "    torch.cuda.synchronize()\n",
    "    print(time.time() - start)\n",
    "    print(\"verify device:\", result_gpu.device)"
   ]
  }
 ],
 "metadata": {
  "kernelspec": {
   "display_name": "cuda_tryouts",
   "language": "python",
   "name": "python3"
  },
  "language_info": {
   "codemirror_mode": {
    "name": "ipython",
    "version": 3
   },
   "file_extension": ".py",
   "mimetype": "text/x-python",
   "name": "python",
   "nbconvert_exporter": "python",
   "pygments_lexer": "ipython3",
   "version": "3.10.8"
  },
  "orig_nbformat": 4,
  "vscode": {
   "interpreter": {
    "hash": "31ee86b25a3b0026feb30a7fc3b17fd02f57bf95ea2bf769e16283d6043baced"
   }
  }
 },
 "nbformat": 4,
 "nbformat_minor": 2
}
