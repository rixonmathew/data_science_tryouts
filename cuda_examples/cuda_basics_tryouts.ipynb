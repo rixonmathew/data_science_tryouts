{
 "cells": [
  {
   "attachments": {},
   "cell_type": "markdown",
   "metadata": {},
   "source": [
    "### Comparison of speed of matrix multiplication using cuda (gpu) vs cpu\n",
    "https://www.youtube.com/watch?v=r9IqwpMR9TE\n",
    "\n",
    "#### CPU\n",
    "```\n",
    "Intel(R) Core(TM) i9-9900 CPU @ 3.10GHz with 62 GB DDR4 memory\n",
    "```\n",
    "\n",
    "#### GPU configuration\n",
    "```shell\n",
    "+-----------------------------------------------------------------------------+\n",
    "| NVIDIA-SMI 525.60.11    Driver Version: 525.60.11    CUDA Version: 12.0     |\n",
    "|-------------------------------+----------------------+----------------------+\n",
    "| GPU  Name        Persistence-M| Bus-Id        Disp.A | Volatile Uncorr. ECC |\n",
    "| Fan  Temp  Perf  Pwr:Usage/Cap|         Memory-Usage | GPU-Util  Compute M. |\n",
    "|                               |                      |               MIG M. |\n",
    "|===============================+======================+======================|\n",
    "|   0  Quadro RTX 4000     Off  | 00000000:01:00.0  On |                  N/A |\n",
    "| 32%   72C    P0    48W / 125W |   2295MiB /  8192MiB |      1%      Default |\n",
    "|                               |                      |                  N/A |\n",
    "+-------------------------------+----------------------+----------------------+\n",
    "```"
   ]
  },
  {
   "cell_type": "code",
   "execution_count": 2,
   "metadata": {},
   "outputs": [
    {
     "data": {
      "text/plain": [
       "True"
      ]
     },
     "execution_count": 2,
     "metadata": {},
     "output_type": "execute_result"
    }
   ],
   "source": [
    "import torch\n",
    "torch.cuda.is_available()"
   ]
  }
 ],
 "metadata": {
  "kernelspec": {
   "display_name": "cuda_tryouts",
   "language": "python",
   "name": "python3"
  },
  "language_info": {
   "codemirror_mode": {
    "name": "ipython",
    "version": 3
   },
   "file_extension": ".py",
   "mimetype": "text/x-python",
   "name": "python",
   "nbconvert_exporter": "python",
   "pygments_lexer": "ipython3",
   "version": "3.10.8"
  },
  "orig_nbformat": 4,
  "vscode": {
   "interpreter": {
    "hash": "31ee86b25a3b0026feb30a7fc3b17fd02f57bf95ea2bf769e16283d6043baced"
   }
  }
 },
 "nbformat": 4,
 "nbformat_minor": 2
}
